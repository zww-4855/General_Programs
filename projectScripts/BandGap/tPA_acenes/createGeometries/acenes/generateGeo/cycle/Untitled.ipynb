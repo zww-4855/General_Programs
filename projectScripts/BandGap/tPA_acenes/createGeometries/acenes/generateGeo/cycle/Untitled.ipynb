{
 "cells": [
  {
   "cell_type": "code",
   "execution_count": 49,
   "metadata": {},
   "outputs": [],
   "source": [
    "import numpy as np\n"
   ]
  },
  {
   "cell_type": "code",
   "execution_count": 50,
   "metadata": {},
   "outputs": [],
   "source": [
    "unit=[['C'  ,  0.00000000    ,0.697583,   -0.650443],\n",
    "['C'   , 0.00000000  , -0.697583,   -0.650443],\n",
    "['C'   , 0.00000000  , -1.395038,    0.557442],\n",
    "['C'   , 0.00000000  ,  1.395038,    0.557442],\n",
    "['H'   , 0.00000000  , -2.494718,    0.557442],\n",
    "['H'   , 0.00000000 ,   2.494718,    0.557442]]"
   ]
  },
  {
   "cell_type": "code",
   "execution_count": 51,
   "metadata": {},
   "outputs": [],
   "source": [
    "unitRE=[['H',       0.000000      ,  1.232560,        -1.577103],\n",
    "['H'     ,  0.000000 ,       -1.232560      , -1.577103]]"
   ]
  },
  {
   "cell_type": "code",
   "execution_count": 52,
   "metadata": {},
   "outputs": [],
   "source": [
    "unitLE=[['C'  ,0.00000000,    0.69758346 ,  -0.650443],\n",
    "['C' , 0.00000000 ,  -0.69758346  , -0.650443],\n",
    "['H' , 0.00000000 ,   1.23255993  , 0.2762042],\n",
    "['H' , 0.00000000 ,  -1.23255993  , 0.2762042]]"
   ]
  },
  {
   "cell_type": "code",
   "execution_count": 53,
   "metadata": {},
   "outputs": [],
   "source": [
    "def output(array,offset,j):\n",
    "    for i in range(len(array)):\n",
    "        print(array[i][0],array[i][1],array[i][2],array[i][3]+(offset*j))"
   ]
  },
  {
   "cell_type": "code",
   "execution_count": 56,
   "metadata": {
    "scrolled": false
   },
   "outputs": [
    {
     "name": "stdout",
     "output_type": "stream",
     "text": [
      "H 0.0 1.23256 -1.577103\n",
      "H 0.0 -1.23256 -1.577103\n",
      "C 0.0 0.697583 -0.650443\n",
      "C 0.0 -0.697583 -0.650443\n",
      "C 0.0 -1.395038 0.557442\n",
      "C 0.0 1.395038 0.557442\n",
      "H 0.0 -2.494718 0.557442\n",
      "H 0.0 2.494718 0.557442\n",
      "C 0.0 0.697583 1.765326\n",
      "C 0.0 -0.697583 1.765326\n",
      "C 0.0 -1.395038 2.973211\n",
      "C 0.0 1.395038 2.973211\n",
      "H 0.0 -2.494718 2.973211\n",
      "H 0.0 2.494718 2.973211\n",
      "C 0.0 0.697583 4.181095\n",
      "C 0.0 -0.697583 4.181095\n",
      "C 0.0 -1.395038 5.38898\n",
      "C 0.0 1.395038 5.38898\n",
      "H 0.0 -2.494718 5.38898\n",
      "H 0.0 2.494718 5.38898\n",
      "C 0.0 0.697583 6.596864\n",
      "C 0.0 -0.697583 6.596864\n",
      "C 0.0 -1.395038 7.804749\n",
      "C 0.0 1.395038 7.804749\n",
      "H 0.0 -2.494718 7.804749\n",
      "H 0.0 2.494718 7.804749\n",
      "C 0.0 0.69758346 9.012633000000001\n",
      "C 0.0 -0.69758346 9.012633000000001\n",
      "H 0.0 1.23255993 9.9392802\n",
      "H 0.0 -1.23255993 9.9392802\n"
     ]
    }
   ],
   "source": [
    "ucount=4\n",
    "cellLength=2.415769\n",
    "output(unitRE,cellLength,0)\n",
    "for i in range(ucount):\n",
    "        output(unit,cellLength,i)\n",
    "#        for j in range(1,i):\n",
    "output(unitLE,cellLength,ucount)            "
   ]
  },
  {
   "cell_type": "code",
   "execution_count": null,
   "metadata": {},
   "outputs": [],
   "source": []
  },
  {
   "cell_type": "code",
   "execution_count": null,
   "metadata": {},
   "outputs": [],
   "source": []
  }
 ],
 "metadata": {
  "kernelspec": {
   "display_name": "Python 3",
   "language": "python",
   "name": "python3"
  },
  "language_info": {
   "codemirror_mode": {
    "name": "ipython",
    "version": 3
   },
   "file_extension": ".py",
   "mimetype": "text/x-python",
   "name": "python",
   "nbconvert_exporter": "python",
   "pygments_lexer": "ipython3",
   "version": "3.7.5"
  }
 },
 "nbformat": 4,
 "nbformat_minor": 4
}
